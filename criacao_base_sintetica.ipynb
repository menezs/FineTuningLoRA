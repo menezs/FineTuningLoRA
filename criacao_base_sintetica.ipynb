{
 "cells": [
  {
   "cell_type": "code",
   "execution_count": 1,
   "id": "dcad31db-d5cc-432c-b923-359c12d8b93b",
   "metadata": {},
   "outputs": [],
   "source": [
    "import pandas as pd\n",
    "import requests\n",
    "import json\n",
    "import re"
   ]
  },
  {
   "cell_type": "markdown",
   "id": "a7459c03-e9a7-4a1c-9941-65403f608fbc",
   "metadata": {},
   "source": [
    "## Definição das funções"
   ]
  },
  {
   "cell_type": "code",
   "execution_count": 2,
   "id": "affb987b-351c-41a8-be76-b10c8a6aea0f",
   "metadata": {},
   "outputs": [],
   "source": [
    "def get_legislacao_ufam_txt():\n",
    "    url = \"https://raw.githubusercontent.com/menezs/support/main/legislacao_ufam/texto_juntos.txt\"\n",
    "    response = requests.get(url)\n",
    "    texto = response.text\n",
    "    \n",
    "    return texto"
   ]
  },
  {
   "cell_type": "code",
   "execution_count": 3,
   "id": "c2ccfd97-5658-4037-8e6e-36c27ea28399",
   "metadata": {},
   "outputs": [],
   "source": [
    "def remover_espacos_extras(texto):\n",
    "    palavras = texto.split()\n",
    "    \n",
    "    texto_limpo = ' '.join(palavras)\n",
    "    \n",
    "    return texto_limpo"
   ]
  },
  {
   "cell_type": "code",
   "execution_count": 4,
   "id": "9b5a729f-b1f4-4f4c-bed8-49c9f360c3cf",
   "metadata": {},
   "outputs": [],
   "source": [
    "def remover_caracteres_especificos(texto):\n",
    "    padrao = r'[\"\\-_.,º•·§!+]'\n",
    "    texto_limpo = re.sub(padrao, '', texto)\n",
    "    \n",
    "    return texto_limpo"
   ]
  },
  {
   "cell_type": "code",
   "execution_count": 5,
   "id": "c711a5f7-edc2-4e06-a597-53fc7c404c9f",
   "metadata": {},
   "outputs": [],
   "source": [
    "def extract_instruction_response_pairs(string: str):#-> Tuple[List[str], List[str]]:\n",
    "    \"\"\"\n",
    "    Extracts pairs of instructions and responses from a JSON-formatted string.\n",
    "    Parameters:\n",
    "        - json_string (str): A string containing JSON-formatted instruction and response pairs.\n",
    "    Returns:\n",
    "        - instructions (list): A list of extracted instructions.\n",
    "        - responses (list): A list of extracted responses corresponding to the instructions.\n",
    "    \"\"\"\n",
    "\n",
    "    pattern = r'{\"Pergunta\": \"(.*?)\", \"Resposta\": \"(.*?)\"}'\n",
    "\n",
    "    # Use re.findall to extract matches\n",
    "    matches = re.findall(pattern, string)\n",
    "\n",
    "    # Extract lists of \"Instruction\" and \"Response\"\n",
    "    instructions = [match[0] for match in matches]\n",
    "    responses = [match[1] for match in matches]\n",
    "\n",
    "    return instructions, responses"
   ]
  },
  {
   "cell_type": "code",
   "execution_count": 6,
   "id": "8f31f2b2-62c5-4b07-b8a8-7ae8e7d22db4",
   "metadata": {},
   "outputs": [],
   "source": [
    "def dividir_string(grande_string, tamanho_parte):\n",
    "    \"\"\"\n",
    "    Divide uma string grande em partes menores.\n",
    "\n",
    "    :param grande_string: A string que será dividida.\n",
    "    :param tamanho_parte: O tamanho de cada parte.\n",
    "    :return: Uma lista de partes menores da string.\n",
    "    \"\"\"\n",
    "    partes = [grande_string[i:i + tamanho_parte] for i in range(0, len(grande_string), tamanho_parte)]\n",
    "    return partes\n"
   ]
  },
  {
   "cell_type": "code",
   "execution_count": 7,
   "id": "5da788fc-2d88-4458-8eaf-619663c7e85c",
   "metadata": {},
   "outputs": [],
   "source": [
    "def extract_instruction_response_pairs(string: str):#-> Tuple[List[str], List[str]]:\n",
    "    \"\"\"\n",
    "    Extracts pairs of instructions and responses from a JSON-formatted string.\n",
    "\n",
    "    Parameters:\n",
    "        - json_string (str): A string containing JSON-formatted instruction and response pairs.\n",
    "\n",
    "    Returns:\n",
    "        - instructions (list): A list of extracted instructions.\n",
    "        - responses (list): A list of extracted responses corresponding to the instructions.\n",
    "    \"\"\"\n",
    "    texto = string.replace('\\'', '\"')\n",
    "\n",
    "    pattern = r'\\{\"Pergunta\":\\s*\"(.*?)\",\\s*\"Resposta\":\\s*\"(.*?)\"\\}'\n",
    "\n",
    "    matches = re.findall(pattern, texto)\n",
    "\n",
    "    instructions = [match[0] for match in matches]\n",
    "    responses = [match[1] for match in matches]\n",
    "\n",
    "    return instructions, responses"
   ]
  },
  {
   "cell_type": "code",
   "execution_count": 8,
   "id": "139e36a5-ed18-4d78-829e-c09d75b8661b",
   "metadata": {},
   "outputs": [],
   "source": [
    "def verificar_repeticoes_perguntas(ins: list, res: list, All_instructions, All_reponses):\n",
    "\n",
    "    for index in range(len(ins)):\n",
    "        if ins[index] not in All_instructions:\n",
    "            All_instructions.append(ins[index])\n",
    "            All_reponses.append(res[index])\n",
    "    "
   ]
  },
  {
   "cell_type": "code",
   "execution_count": 9,
   "id": "73990fc9-2f72-40b9-a95a-4a647138e7a8",
   "metadata": {},
   "outputs": [],
   "source": [
    "def criar_lista_dict(All_instructions, All_reponses):\n",
    "    dict_full = []\n",
    "    tam = len(All_instructions)\n",
    "    if tam > 0:\n",
    "        for index in range(tam):\n",
    "            temp = {\n",
    "                \"Pergunta\": All_instructions[index],\n",
    "                \"Resposta\": All_reponses[index]\n",
    "            }\n",
    "            dict_full.append(temp)\n",
    "        \n",
    "    return dict_full"
   ]
  },
  {
   "cell_type": "markdown",
   "id": "1f8db3d2-04d1-49c8-9f6a-f19375e395e1",
   "metadata": {},
   "source": [
    "## Tratamento dos Dados"
   ]
  },
  {
   "cell_type": "code",
   "execution_count": 10,
   "id": "d3644cb4-7c10-42c9-a427-88f78d97b173",
   "metadata": {},
   "outputs": [],
   "source": [
    "legislacao_full_txt = get_legislacao_ufam_txt()\n",
    "legislacao_full_txt = legislacao_full_txt.split('\\n')"
   ]
  },
  {
   "cell_type": "code",
   "execution_count": 11,
   "id": "64685b05-583f-443d-88eb-c3b8252b2343",
   "metadata": {},
   "outputs": [],
   "source": [
    "texto_tratado = []\n",
    "for frase in legislacao_full_txt:\n",
    "    frase_formatada = remover_caracteres_especificos(frase)\n",
    "    frase_formatada = remover_espacos_extras(frase_formatada)\n",
    "\n",
    "    texto_tratado.append(frase_formatada)"
   ]
  },
  {
   "cell_type": "code",
   "execution_count": 12,
   "id": "0d1562a8-2e43-4d27-a130-9d606240cba6",
   "metadata": {},
   "outputs": [],
   "source": [
    "legislacao_tratada = ' '.join(texto_tratado)"
   ]
  },
  {
   "cell_type": "code",
   "execution_count": 13,
   "id": "27d8bdbf-2da8-47aa-bd16-d8e1a0e41c9f",
   "metadata": {},
   "outputs": [],
   "source": [
    "tamanho_parte = 900  # Defina o tamanho desejado para cada parte\n",
    "partes = dividir_string(legislacao_tratada, tamanho_parte)"
   ]
  },
  {
   "cell_type": "code",
   "execution_count": 26,
   "id": "66f101ff-ab37-4679-817a-3ea2e2bcf8d1",
   "metadata": {},
   "outputs": [
    {
     "data": {
      "text/plain": [
       "806"
      ]
     },
     "execution_count": 26,
     "metadata": {},
     "output_type": "execute_result"
    }
   ],
   "source": [
    "quant_partes = len(partes)\n",
    "quant_partes"
   ]
  },
  {
   "cell_type": "markdown",
   "id": "5a547f23-cd84-45d1-bb2f-3c6a3056b301",
   "metadata": {},
   "source": [
    "## Geração da base sintética de instruções"
   ]
  },
  {
   "cell_type": "code",
   "execution_count": 15,
   "id": "5e83addb-a862-4fe9-b738-09f4521cc375",
   "metadata": {},
   "outputs": [],
   "source": [
    "import time\n",
    "# from openai import OpenAI\n",
    "from langchain_openai import OpenAI\n",
    "from tqdm import tqdm"
   ]
  },
  {
   "cell_type": "code",
   "execution_count": 16,
   "id": "292db622-05a9-418b-a8d1-34a48ec307ae",
   "metadata": {},
   "outputs": [],
   "source": [
    "# Utilizando o LM Studio\n",
    "llm = OpenAI(base_url=\"http://localhost:1234/v1\", api_key=\"lm-studio\")"
   ]
  },
  {
   "cell_type": "code",
   "execution_count": 17,
   "id": "a9fc457a-87c5-4906-95f9-ecddd110b291",
   "metadata": {},
   "outputs": [
    {
     "name": "stderr",
     "output_type": "stream",
     "text": [
      "100%|██████████████████████████████████████████████████████████████████████████████████| 10/10 [09:31<00:00, 57.14s/it]"
     ]
    },
    {
     "name": "stdout",
     "output_type": "stream",
     "text": [
      "\n",
      "\n",
      "===Time: 571.4549188613892 seconds===\n"
     ]
    },
    {
     "name": "stderr",
     "output_type": "stream",
     "text": [
      "\n"
     ]
    }
   ],
   "source": [
    "start = time.time()\n",
    "\n",
    "num_perguntas = 1\n",
    "\n",
    "All_instructions = []\n",
    "All_reponses = []\n",
    "\n",
    "for idx in tqdm(range(quant_partes)):\n",
    "    prompt =f\"\"\"### Gere somente uma pergunta com sua respectiva resposta sobre o seguinte texto:\"{partes[idx]}\"\n",
    "    \n",
    "    ### Você deve serguir o formato como no exemplo:{{'Pergunta': 'Exemplo de pergunta 1', 'Resposta': 'Exemplo de resposta 1'}}\n",
    "    \n",
    "    ### Você deve fornecer a pergunta e resposta no mesmo formato acima, sem nenhuma quebra de linha, sem repetição de pergunta, tenha a certeza de ter gerado somente um par pergunta-resposta, não gere código ou qualquer informação a mais que esteja fora do formato estabelecido.\n",
    "    \"\"\"\n",
    "    \n",
    "    resposta_llm = llm.generate([prompt])\n",
    "\n",
    "    ins, res = extract_instruction_response_pairs(resposta_llm.generations[0][0].text)\n",
    "    \n",
    "    verificar_repeticoes_perguntas(ins, res, All_instructions, All_reponses)\n",
    "    \n",
    "print(\"\\n\\n===Time: {} seconds===\".format(time.time()-start))"
   ]
  },
  {
   "cell_type": "code",
   "execution_count": 18,
   "id": "13a3969f-308d-46b4-8152-7fc3cbe14457",
   "metadata": {},
   "outputs": [],
   "source": [
    "dict_full = criar_lista_dict(All_instructions, All_reponses)"
   ]
  },
  {
   "cell_type": "code",
   "execution_count": 19,
   "id": "125813b0-cfc3-468d-a68c-ba2782153e60",
   "metadata": {},
   "outputs": [
    {
     "data": {
      "text/plain": [
       "[{'Pergunta': 'Quais são as entidades que podem se candidatar à credenciamento?',\n",
       "  'Resposta': 'Serão credenciadas pessoas jurídicas de direito público ou privado em funcionamento há 02 (dois) anos ou mais com ou sem fins lucrativos inclusive órgãos da Administração Pública direta, autárquica ou fundacional de qualquer dos Poderes da União, dos Estados, do Distrito Federal ou dos Municípios.'},\n",
       " {'Pergunta': 'Quais são os pré-requisitos para que uma entidade seja credenciada?',\n",
       "  'Resposta': 'Serão credenciadas pessoas jurídicas de direito público ou privado em funcionamento há 02 (dois) anos ou mais com ou sem fins lucrativos.'},\n",
       " {'Pergunta': 'Qual é a Lei que regula o estágio obrigatório e não-obrigatório?',\n",
       "  'Resposta': 'A Lei nº 11.788 de 25 de setembro de 2008.'},\n",
       " {'Pergunta': 'O número máximo de estagiário por entidade concedente será proporcional ao número do quadro de pessoal nos termos da Lei n 11788/2008.',\n",
       "  'Resposta': 'I de 1 (um) a 5 (cinco) empregados: 1 (um) estagiário; II de 6 (seis) a 10 (dez) empregados: até 2 (dois) estagiários; III de 11 (onze) a 25 (vinte e cinco) empregados: até 5 (cinco) estagiários; IV acima de 25 (vinte e cinco) empregados: até 20% (vinte por cento) de estagiários.'},\n",
       " {'Pergunta': 'O que são os estagiários?',\n",
       "  'Resposta': 'Os estagiários são estudantes de graduação da UFAM que realizam estágio em entidades concedentes.'},\n",
       " {'Pergunta': 'Qual é o compromisso da instituição de ensino com o educando?',\n",
       "  'Resposta': 'e compromisso com a instituição de ensino e o educando zelando por seu cumprimento;'},\n",
       " {'Pergunta': 'Quais são as instalações que devem ser oferecidas ao educando?',\n",
       "  'Resposta': 'instalações que tenham condições de proporcionar ao educando atividades de aprendizagem social profissional e cultural;'},\n",
       " {'Pergunta': 'Quem é o funcionário indicado para orientar e supervisionar os estagiários?',\n",
       "  'Resposta': 'funcionário de seu quadro de pessoal com formação ou experiência profissional na área de conhecimento desenvolvida no curso do estagiário'},\n",
       " {'Pergunta': 'Quais são as providências a serem tomadas em caso de acidente pessoal ao estagiário?',\n",
       "  'Resposta': 'contratar em favor do estagiário seguro contra acidentes pessoais cuja apólice seja compatível com valores de mercado'},\n",
       " {'Pergunta': 'O credenciamento está permanentemente aberto a partir da publicação desta chamada.',\n",
       "  'Resposta': 'Sim.'},\n",
       " {'Pergunta': 'A periodicidade mínima para enviar o relatório de atividades ao estagiário é de 6 meses.',\n",
       "  'Resposta': 'Sim'},\n",
       " {'Pergunta': 'O credenciamento das entidades concedentes deve ser vinculado a um ou mais cursos da UFAM descritos nas Tabelas 1 e 2 do ANEXO I.',\n",
       "  'Resposta': 'Sim'},\n",
       " {'Pergunta': 'Qual é o endereço eletrônico para envio dos documentos?',\n",
       "  'Resposta': 'estagioufaml @ gmail.com'},\n",
       " {'Pergunta': 'Qual é o critério para seleção das entidades?',\n",
       "  'Resposta': 'a) Cuja documentação estiver em conformidade com esta Chamada Pública;'},\n",
       " {'Pergunta': 'Há um limite no número de entidades a serem credenciadas?',\n",
       "  'Resposta': 'Não há limite quanto ao número de entidades a serem credenciadas'},\n",
       " {'Pergunta': 'O que é o convênio?',\n",
       "  'Resposta': 'É um acordo entre as partes que tem vigência inicial de 1 ano e admite prorrogações por igual período.'},\n",
       " {'Pergunta': 'Qual é o nome da faculdade de Artes?',\n",
       "  'Resposta': 'Faculdade de Artes'},\n",
       " {'Pergunta': 'Qual é o objetivo principal da Faculdade de Educação Física e Fisioterapia?',\n",
       "  'Resposta': 'Oferecer educação superior em Física e Fisioterapia, visando formar profissionais capacitados para atuar na área.'},\n",
       " {'Pergunta': 'Qual é a faculdade que oferece curso de Física?',\n",
       "  'Resposta': 'Instituto de Ciências Exatas.'},\n",
       " {'Pergunta': 'Qual é a faculdade que oferta cursos de Física, Ciências Humanas e Sociais, Geologia e Matemática?',\n",
       "  'Resposta': 'Instituto de Ciências Exatas.'}]"
      ]
     },
     "execution_count": 19,
     "metadata": {},
     "output_type": "execute_result"
    }
   ],
   "source": [
    "dict_full"
   ]
  },
  {
   "cell_type": "markdown",
   "id": "145a25cf-36de-423c-bd06-b2f305561ea4",
   "metadata": {},
   "source": [
    "## Salvar Base Sintética"
   ]
  },
  {
   "cell_type": "code",
   "execution_count": 20,
   "id": "9aaf6a11-14ea-4a61-ae5c-4324fd2f1ffa",
   "metadata": {},
   "outputs": [
    {
     "name": "stdout",
     "output_type": "stream",
     "text": [
      "Arquivo 'base_sintética.json' salvo com sucesso!\n"
     ]
    }
   ],
   "source": [
    "nome_arquivo = 'base_sintética.json'\n",
    "\n",
    "with open(nome_arquivo, 'w',encoding='utf-8') as arquivo:\n",
    "    json.dump(dict_full, arquivo, ensure_ascii=False, indent=4)\n",
    "\n",
    "print(f\"Arquivo '{nome_arquivo}' salvo com sucesso!\")"
   ]
  },
  {
   "cell_type": "markdown",
   "id": "a6142b9e-afe2-4309-a6b5-c2bfd3d8e104",
   "metadata": {},
   "source": [
    "## Verificar perguntas repetidas"
   ]
  },
  {
   "cell_type": "code",
   "execution_count": 21,
   "id": "ad108ff5-0ba6-49d1-b9db-ded240bb8cd4",
   "metadata": {},
   "outputs": [],
   "source": [
    "with open(nome_arquivo, 'r', encoding='utf-8') as file:\n",
    "    base_sintetica = json.load(file)\n"
   ]
  },
  {
   "cell_type": "code",
   "execution_count": 22,
   "id": "177e6814-1be1-4790-827d-ef0ee0486f9e",
   "metadata": {},
   "outputs": [
    {
     "data": {
      "text/plain": [
       "20"
      ]
     },
     "execution_count": 22,
     "metadata": {},
     "output_type": "execute_result"
    }
   ],
   "source": [
    "len(base_sintetica)"
   ]
  },
  {
   "cell_type": "code",
   "execution_count": 23,
   "id": "c63df856-d9bf-406c-986c-6ca1f8237d7f",
   "metadata": {},
   "outputs": [
    {
     "name": "stdout",
     "output_type": "stream",
     "text": [
      "20\n"
     ]
    }
   ],
   "source": [
    "perguntas_unicas = {}\n",
    "\n",
    "for item in base_sintetica:\n",
    "    pergunta = item['Pergunta']\n",
    "    if pergunta not in perguntas_unicas:\n",
    "        perguntas_unicas[pergunta] = item\n",
    "\n",
    "dados_sem_duplicatas = list(perguntas_unicas.values())\n",
    "print(len(dados_sem_duplicatas))"
   ]
  },
  {
   "cell_type": "code",
   "execution_count": 24,
   "id": "3f15a0a5-02db-4393-8272-ef8213e6baff",
   "metadata": {},
   "outputs": [
    {
     "name": "stdout",
     "output_type": "stream",
     "text": [
      "Arquivo JSON atualizado com sucesso!\n"
     ]
    }
   ],
   "source": [
    "with open(nome_arquivo, 'w', encoding='utf-8') as arquivo:\n",
    "    json.dump(dados_sem_duplicatas, arquivo, ensure_ascii=False, indent=4)\n",
    "\n",
    "print(\"Arquivo JSON atualizado com sucesso!\")"
   ]
  },
  {
   "cell_type": "code",
   "execution_count": 25,
   "id": "e6254b45-bb89-4d88-9f83-c97c87b548f5",
   "metadata": {},
   "outputs": [
    {
     "data": {
      "text/plain": [
       "'base_sintética.json'"
      ]
     },
     "execution_count": 25,
     "metadata": {},
     "output_type": "execute_result"
    }
   ],
   "source": [
    "nome_arquivo"
   ]
  },
  {
   "cell_type": "code",
   "execution_count": null,
   "id": "8fd2bc4e-ea31-4396-9346-566c1f5553ae",
   "metadata": {},
   "outputs": [],
   "source": []
  },
  {
   "cell_type": "code",
   "execution_count": null,
   "id": "928dd531-3cbc-428d-b9de-2e75fb06a813",
   "metadata": {},
   "outputs": [],
   "source": []
  },
  {
   "cell_type": "code",
   "execution_count": null,
   "id": "b8c05d34-3ab6-4c2c-84bb-caeadf5bfcf8",
   "metadata": {},
   "outputs": [],
   "source": []
  },
  {
   "cell_type": "code",
   "execution_count": null,
   "id": "0b6ba1b3-7d3c-4478-a7bd-1976a8c09c57",
   "metadata": {},
   "outputs": [],
   "source": []
  },
  {
   "cell_type": "code",
   "execution_count": null,
   "id": "41ee6ccd-d867-46a3-b964-ad19ee9939fd",
   "metadata": {},
   "outputs": [],
   "source": []
  }
 ],
 "metadata": {
  "kernelspec": {
   "display_name": "Python 3 (ipykernel)",
   "language": "python",
   "name": "python3"
  },
  "language_info": {
   "codemirror_mode": {
    "name": "ipython",
    "version": 3
   },
   "file_extension": ".py",
   "mimetype": "text/x-python",
   "name": "python",
   "nbconvert_exporter": "python",
   "pygments_lexer": "ipython3",
   "version": "3.11.3"
  }
 },
 "nbformat": 4,
 "nbformat_minor": 5
}
